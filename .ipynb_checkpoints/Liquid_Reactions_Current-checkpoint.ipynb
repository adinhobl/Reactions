{
 "cells": [
  {
   "cell_type": "markdown",
   "metadata": {},
   "source": [
    "### Imports"
   ]
  },
  {
   "cell_type": "code",
   "execution_count": null,
   "metadata": {},
   "outputs": [],
   "source": [
    "import plotly as py\n",
    "import plotly.graph_objs as go\n",
    "import numpy as np"
   ]
  },
  {
   "cell_type": "markdown",
   "metadata": {},
   "source": [
    "### Define Functions"
   ]
  },
  {
   "cell_type": "code",
   "execution_count": null,
   "metadata": {},
   "outputs": [],
   "source": [
    "def liquid_react(stoic, exponents, init_conc, k_vals, t_step=0.001, duration=10):\n",
    "    \"\"\"\n",
    "    stoic = list of tuples of coefficients of reactants and products for each reaction. Reactants should be negative.\n",
    "    exponents = list of tuples of exponents for eact reactant in the reaction rate equation for each reaction\n",
    "    init_conc = list of initial concentrations for each reactant and product, mol/m^3\n",
    "    k_vals = list of floats of k for each reaction, mol/m^3/s\n",
    "    V = volume of batch reactor, m^3\n",
    "    t_step = time step for integration, s\n",
    "    duration = time window of reaction, s\n",
    "    \"\"\"\n",
    "    # Initialize return arrays\n",
    "    concs = np.array(init_conc).reshape(1,-1)\n",
    "    times = np.zeros((1,1))\n",
    "        \n",
    "    # Calculate concentrations for each time_step\n",
    "    for i in np.arange(t_step, duration, t_step):\n",
    "        delta_C = np.zeros((1,len(init_conc)))\n",
    "        \n",
    "        for s,e,k in zip(stoic, exponents, k_vals):\n",
    "\n",
    "            r = k * np.prod(np.power(concs[-1,:],e))\n",
    "\n",
    "            delta_C += np.multiply(s, r*t_step)\n",
    "\n",
    "            \n",
    "        concs = np.concatenate((concs, concs[-1,:] + delta_C), axis=0)\n",
    "        \n",
    "        times = np.append(times,i)\n",
    "        \n",
    "        #print(i, r, concs[-1,:], delta_C, times[-1])\n",
    "    \n",
    "    return concs, times"
   ]
  },
  {
   "cell_type": "code",
   "execution_count": null,
   "metadata": {},
   "outputs": [],
   "source": [
    "def plot_concs(concs, times, filename='Reactions.html'):\n",
    "    species = ['A','B','C','D','E','F','G','H']\n",
    "    plots = []\n",
    "    for i in range(concs.shape[1]):\n",
    "        trace = go.Scatter(\n",
    "                 x = times, \n",
    "                 y = concs[:,i],\n",
    "                 mode = 'lines',\n",
    "                 name = 'Concentration of {}'.format(species[i]),\n",
    "                 line = dict(\n",
    "                        width = 2\n",
    "                        )\n",
    "                 )\n",
    "        plots.append(trace)\n",
    "    fig = dict(data=plots)\n",
    "    py.offline.plot(fig, filename=filename)"
   ]
  },
  {
   "cell_type": "markdown",
   "metadata": {},
   "source": [
    "### Run Simulation"
   ]
  },
  {
   "cell_type": "markdown",
   "metadata": {},
   "source": [
    "##### Formatting the input:\n",
    "For the system of chemical reactions below (the first two of which are in equilibrium):\n",
    "* A + 2B &rarr; C \n",
    "* C &rarr; A + 2B\n",
    "* A + C &rarr; D\n",
    "\n",
    "The input to liquid_react would be as follows:\n",
    "```python\n",
    "liquid_react([(-1,-2,1,0),(1,2,-1,0),(-1,0,-1,1)], # Stoichiometric breakdown of reactants and products\n",
    "             [(1,1,0,0),(0,0,1,0),(1,0,1,0)],      # Powers of each component for the rate equations\n",
    "             [10,5,0,0],                           # Initial concetrations of each component\n",
    "             [0.05,0.02,0.03]                      # Reaction rate constant for each reaction\n",
    "            )\n",
    "```\n",
    "Tuples are required for each set of stoichiometric and exponential parameters to demarcate separate reactions."
   ]
  },
  {
   "cell_type": "code",
   "execution_count": 4,
   "metadata": {
    "collapsed": true
   },
   "outputs": [],
   "source": [
    "concs, times = liquid_react([(-1,-2,1,0),(1,2,-1,0),(-1,0,-1,1)],\n",
    "                            [(1,1,0,0),(0,0,1,0),(1,0,1,0)],\n",
    "                            [10,5,0,0],\n",
    "                            [0.05,0.02,0.03],\n",
    "                           duration=30)"
   ]
  },
  {
   "cell_type": "code",
   "execution_count": 5,
   "metadata": {
    "collapsed": true
   },
   "outputs": [],
   "source": [
    "plot_concs(concs,times)"
   ]
  },
  {
   "cell_type": "code",
   "execution_count": null,
   "metadata": {
    "collapsed": true
   },
   "outputs": [],
   "source": []
  }
 ],
 "metadata": {
  "kernelspec": {
   "display_name": "Python 3",
   "language": "python",
   "name": "python3"
  },
  "language_info": {
   "codemirror_mode": {
    "name": "ipython",
    "version": 3
   },
   "file_extension": ".py",
   "mimetype": "text/x-python",
   "name": "python",
   "nbconvert_exporter": "python",
   "pygments_lexer": "ipython3",
   "version": "3.7.2"
  }
 },
 "nbformat": 4,
 "nbformat_minor": 2
}
