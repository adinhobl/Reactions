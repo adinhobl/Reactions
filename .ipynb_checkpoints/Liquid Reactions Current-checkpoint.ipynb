{
 "cells": [
  {
   "cell_type": "code",
   "execution_count": 83,
   "metadata": {},
   "outputs": [],
   "source": [
    "import plotly as py\n",
    "import plotly.graph_objs as go\n",
    "import numpy as np"
   ]
  },
  {
   "cell_type": "markdown",
   "metadata": {},
   "source": [
    "#### Define Initial Conditions"
   ]
  },
  {
   "cell_type": "code",
   "execution_count": 84,
   "metadata": {},
   "outputs": [],
   "source": [
    "# Na0 = 100 # mol/m^3\n",
    "# Nb0 = 0   # mol/m^3\n",
    "# kab = .8   # mol/m^3/s\n",
    "# t0 = 0     # s\n",
    "# V = 10    # m^3"
   ]
  },
  {
   "cell_type": "markdown",
   "metadata": {},
   "source": [
    "#### Define Simulation Parameters"
   ]
  },
  {
   "cell_type": "code",
   "execution_count": 85,
   "metadata": {},
   "outputs": [],
   "source": [
    "# t_step = 0.01\n",
    "# duration = 10\n",
    "# conc_A = []\n",
    "# conc_B = []\n",
    "# times = []"
   ]
  },
  {
   "cell_type": "markdown",
   "metadata": {},
   "source": [
    "#### Simulation"
   ]
  },
  {
   "cell_type": "code",
   "execution_count": 86,
   "metadata": {},
   "outputs": [],
   "source": [
    "# conc_A.append(Na0/V)\n",
    "# conc_B.append(Nb0/V)\n",
    "# times.append(t0)\n",
    "# for i in np.arange(t0, duration, t_step):\n",
    "#     Ca = conc_A[-1]\n",
    "#     Cb = conc_B[-1]\n",
    "#     r = kab * Ca\n",
    "#     dna = - V * r * t_step\n",
    "#     dnb = V * r * t_step\n",
    "#     conc_A.append((Ca * V + dna)/V)\n",
    "#     conc_B.append((Cb * V + dnb)/V)\n",
    "#     times.append(i)\n",
    "#     #print(i, Ca, Cb, r)"
   ]
  },
  {
   "cell_type": "markdown",
   "metadata": {},
   "source": [
    "#### Plotting"
   ]
  },
  {
   "cell_type": "code",
   "execution_count": 87,
   "metadata": {},
   "outputs": [],
   "source": [
    "# trace1 = go.Scatter(\n",
    "#     x = times,\n",
    "#     y = conc_A,\n",
    "#     mode = 'lines',\n",
    "#     name = 'Concentration of A',\n",
    "#     line = dict(\n",
    "#                 color = ('rgb(51, 51, 0)'),\n",
    "#                 width = 2\n",
    "#                 )\n",
    "# )\n",
    "\n",
    "# trace2 = go.Scatter(\n",
    "#     x = times,\n",
    "#     y = conc_B,\n",
    "#     mode = 'lines',\n",
    "#     name = 'Concentration of B',\n",
    "#     line = dict(\n",
    "#                 color = ('rgb(0, 0, 120)'),\n",
    "#                 width = 2\n",
    "#                 )\n",
    "# )"
   ]
  },
  {
   "cell_type": "code",
   "execution_count": 88,
   "metadata": {},
   "outputs": [],
   "source": [
    "# plots = [trace1,trace2]\n",
    "\n",
    "# fig = dict(data=plots)\n",
    "# py.offline.plot(fig, filename='Reactions.html')"
   ]
  },
  {
   "cell_type": "code",
   "execution_count": 89,
   "metadata": {},
   "outputs": [],
   "source": [
    "def liquid_react(stoic, exponents, init_conc, k_vals, V, t_step=0.01, duration=10):\n",
    "    \"\"\"\n",
    "    stoic = tuple of coefficients of reactants and products. Reactants should be negative.\n",
    "    exponents = tuple of exponents for eact reactant in the reaction rate equation\n",
    "    init_conc = tuple of initial concentration for each reactant and product, mol/m^3\n",
    "    k_vals = integer of k for the reaction, mol/m^3/s\n",
    "    V = volume of batch reactor, m^3\n",
    "    t_step = time step for integration, s\n",
    "    duration = time window of reaction, s\n",
    "    \"\"\"\n",
    "    \n",
    "    concs = np.zeros((1,len(stoic)))\n",
    "    times = np.zeros((1,1))\n",
    "        \n",
    "    for i in range(len(init_conc)):\n",
    "        if init_conc[i] == 0:\n",
    "            concs[0,i] = 0.0000000000001\n",
    "        else:\n",
    "            concs[0,i] = init_conc[i]\n",
    "    \n",
    "    for i in np.arange(t_step, duration, t_step):\n",
    "        \n",
    "        r = k_vals * np.prod(np.power(concs[-1,:],exponents))\n",
    "        \n",
    "        delta_C = np.multiply(stoic, r*t_step).reshape((-1,len(stoic)))\n",
    "        #print(delta_C.shape)\n",
    "        #print(concs.shape)\n",
    "            \n",
    "        concs = np.concatenate((concs, concs[-1,:] + delta_C), axis=0)\n",
    "        \n",
    "        times = np.append(times,i)\n",
    "        \n",
    "        #print(i, r, concs[-1,:], delta_C, times[-1])\n",
    "    \n",
    "    return concs, times"
   ]
  },
  {
   "cell_type": "code",
   "execution_count": 90,
   "metadata": {},
   "outputs": [],
   "source": [
    "concs, times = liquid_react((-3,-2,1),(1,1,0),(10,5,0),0.08,10)"
   ]
  },
  {
   "cell_type": "code",
   "execution_count": 91,
   "metadata": {},
   "outputs": [],
   "source": [
    "trace1 = go.Scatter(\n",
    "    x = times,\n",
    "    y = concs[:,0],\n",
    "    mode = 'lines',\n",
    "    name = 'Concentration of A',\n",
    "    line = dict(\n",
    "                color = ('rgb(255, 0, 0)'),\n",
    "                width = 2\n",
    "                )\n",
    ")\n",
    "\n",
    "trace2 = go.Scatter(\n",
    "    x = times,\n",
    "    y = concs[:,1],\n",
    "    mode = 'lines',\n",
    "    name = 'Concentration of B',\n",
    "    line = dict(\n",
    "                color = ('rgb(0, 255, 0)'),\n",
    "                width = 2\n",
    "                )\n",
    ")\n",
    "\n",
    "trace3 = go.Scatter(\n",
    "    x = times,\n",
    "    y = concs[:,2],\n",
    "    mode = 'lines',\n",
    "    name = 'Concentration of C',\n",
    "    line = dict(\n",
    "                color = ('rgb(0, 0, 255)'),\n",
    "                width = 2\n",
    "                )\n",
    ")"
   ]
  },
  {
   "cell_type": "code",
   "execution_count": 92,
   "metadata": {},
   "outputs": [
    {
     "data": {
      "text/plain": [
       "'file://J:\\\\Code\\\\Reactions\\\\Reactions.html'"
      ]
     },
     "execution_count": 92,
     "metadata": {},
     "output_type": "execute_result"
    }
   ],
   "source": [
    "plots = [trace1,trace2,trace3]\n",
    "\n",
    "fig = dict(data=plots)\n",
    "py.offline.plot(fig, filename='Reactions.html')"
   ]
  }
 ],
 "metadata": {
  "kernelspec": {
   "display_name": "Python 3",
   "language": "python",
   "name": "python3"
  },
  "language_info": {
   "codemirror_mode": {
    "name": "ipython",
    "version": 3
   },
   "file_extension": ".py",
   "mimetype": "text/x-python",
   "name": "python",
   "nbconvert_exporter": "python",
   "pygments_lexer": "ipython3",
   "version": "3.6.5"
  }
 },
 "nbformat": 4,
 "nbformat_minor": 2
}
